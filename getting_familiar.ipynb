{
 "cells": [
  {
   "cell_type": "markdown",
   "metadata": {
    "deletable": true,
    "editable": true
   },
   "source": [
    "# Experimenting with SAGE and Jupyter for ISCI 4A12 Thesis\n",
    "## Michael Chong\n",
    "\n",
    "This Jupyter notebook contains some experimentation with SAGE for my Honours thesis project, concerning levelable simplicial complexes.\n",
    "\n",
    "Things I need to figure out:\n",
    "\n",
    "* How does importing packages work in Python?\n",
    "\n",
    "Some useful links for learning:\n",
    "\n",
    "* [SAGE commands for undirected graphs](http://doc.sagemath.org/html/en/reference/graphs/sage/graphs/graph.html)\n",
    "* [IndependentSets() function](http://doc.sagemath.org/html/en/reference/graphs/sage/graphs/independent_sets.html#sage.graphs.independent_sets.IndependentSets)"
   ]
  },
  {
   "cell_type": "code",
   "execution_count": 2,
   "metadata": {
    "collapsed": false,
    "deletable": true,
    "editable": true
   },
   "outputs": [],
   "source": [
    "# Import things?\n",
    "# I'm not exactly sure how this works\n",
    "\n",
    "# Independent Sets function\n",
    "from sage.graphs.independent_sets import IndependentSets\n",
    "\n",
    "# Numpy (for convenient matrix functions)\n",
    "import numpy as np\n"
   ]
  },
  {
   "cell_type": "markdown",
   "metadata": {
    "deletable": true,
    "editable": true
   },
   "source": [
    "## Methods\n",
    "\n",
    "### Graphs, independent sets"
   ]
  },
  {
   "cell_type": "code",
   "execution_count": 3,
   "metadata": {
    "collapsed": false,
    "deletable": true,
    "editable": true
   },
   "outputs": [
    {
     "data": {
      "image/png": "[encoded data removed]",
      "text/plain": [
       "Graphics object consisting of 3 graphics primitives"
      ]
     },
     "metadata": {},
     "output_type": "display_data"
    },
    {
     "name": "stdout",
     "output_type": "stream",
     "text": [
      "[[0, 1]]\n"
     ]
    },
    {
     "data": {
      "image/png": "[encoded data removed]",
      "text/plain": [
       "Graphics object consisting of 4 graphics primitives"
      ]
     },
     "metadata": {},
     "output_type": "display_data"
    },
    {
     "name": "stdout",
     "output_type": "stream",
     "text": [
      "[[0], [1]]\n"
     ]
    }
   ],
   "source": [
    "# Generate graphs up to n vertices\n",
    "n = 2\n",
    "graphs(n)\n",
    "\n",
    "# Show graphs\n",
    "for g in graphs(n):\n",
    "    \n",
    "    # Show graphs\n",
    "    g.show()\n",
    "    \n",
    "    # Get independent sets\n",
    "    i = IndependentSets(g, maximal = True)\n",
    "    \n",
    "    # Print independent sets\n",
    "    print(list(i))\n"
   ]
  },
  {
   "cell_type": "markdown",
   "metadata": {
    "deletable": true,
    "editable": true
   },
   "source": [
    "### Matrices"
   ]
  },
  {
   "cell_type": "code",
   "execution_count": 4,
   "metadata": {
    "collapsed": false,
    "deletable": true,
    "editable": true
   },
   "outputs": [
    {
     "data": {
      "text/plain": [
       "matrix([[1, 2, 3],\n",
       "        [4, 5, 6],\n",
       "        [7, 8, 9]])"
      ]
     },
     "execution_count": 4,
     "metadata": {},
     "output_type": "execute_result"
    }
   ],
   "source": [
    "# Defining matrices\n",
    "M = np.matrix([[1, 2, 3], \n",
    "     [4, 5, 6],\n",
    "     [7, 8, 9]])\n",
    "M"
   ]
  },
  {
   "cell_type": "code",
   "execution_count": 5,
   "metadata": {
    "collapsed": false,
    "deletable": true,
    "editable": true
   },
   "outputs": [
    {
     "data": {
      "text/plain": [
       "array([[ 0.,  0.],\n",
       "       [ 0.,  0.],\n",
       "       [ 0.,  0.]])"
      ]
     },
     "execution_count": 5,
     "metadata": {},
     "output_type": "execute_result"
    }
   ],
   "source": [
    "# Zero matrices np.zeros()\n",
    "x = np.zeros((3,2))\n",
    "x"
   ]
  },
  {
   "cell_type": "code",
   "execution_count": 6,
   "metadata": {
    "collapsed": false,
    "deletable": true,
    "editable": true
   },
   "outputs": [
    {
     "data": {
      "text/plain": [
       "matrix([[ 0.,  0.],\n",
       "        [ 0.,  0.],\n",
       "        [ 0.,  0.]])"
      ]
     },
     "execution_count": 6,
     "metadata": {},
     "output_type": "execute_result"
    }
   ],
   "source": [
    "# dot products np.dot(A, B)\n",
    "np.dot(M, x)\n",
    "\n",
    "# Or, if we actually have numpy matrices (and not just arrays):\n",
    "M*x"
   ]
  },
  {
   "cell_type": "markdown",
   "metadata": {
    "deletable": true,
    "editable": true
   },
   "source": [
    "Note that the \"new\" Python syntax of `A@B` for matrix multiplication doesn't work because I think SageMath runs on an older version of Python."
   ]
  },
  {
   "cell_type": "markdown",
   "metadata": {
    "deletable": true,
    "editable": true
   },
   "source": [
    "## Experimentation\n",
    "\n",
    "First, we're going to generate all graphs of size n, and store them in an array called `results`. For each graph `g` in `results`, its corresponding maximal independent set is stored in `indSets` at the same index."
   ]
  },
  {
   "cell_type": "code",
   "execution_count": 475,
   "metadata": {
    "collapsed": false,
    "deletable": true,
    "editable": true
   },
   "outputs": [
    {
     "ename": "KeyboardInterrupt",
     "evalue": "",
     "output_type": "error",
     "traceback": [
      "\u001b[0;31m---------------------------------------------------------------------------\u001b[0m",
      "\u001b[0;31mKeyboardInterrupt\u001b[0m                         Traceback (most recent call last)",
      "\u001b[0;32m<ipython-input-475-c11201311c75>\u001b[0m in \u001b[0;36m<module>\u001b[0;34m()\u001b[0m\n\u001b[1;32m     13\u001b[0m \u001b[0;34m\u001b[0m\u001b[0m\n\u001b[1;32m     14\u001b[0m     \u001b[0;31m# Record the maximal independent set\u001b[0m\u001b[0;34m\u001b[0m\u001b[0;34m\u001b[0m\u001b[0m\n\u001b[0;32m---> 15\u001b[0;31m     \u001b[0mindSets\u001b[0m\u001b[0;34m.\u001b[0m\u001b[0mappend\u001b[0m\u001b[0;34m(\u001b[0m\u001b[0mIndependentSets\u001b[0m\u001b[0;34m(\u001b[0m\u001b[0mg\u001b[0m\u001b[0;34m,\u001b[0m \u001b[0mmaximal\u001b[0m \u001b[0;34m=\u001b[0m \u001b[0mTrue\u001b[0m\u001b[0;34m)\u001b[0m\u001b[0;34m)\u001b[0m\u001b[0;34m\u001b[0m\u001b[0m\n\u001b[0m",
      "\u001b[0;32m/home/michael/SageMath/src/sage/graphs/independent_sets.pyx\u001b[0m in \u001b[0;36msage.graphs.independent_sets.IndependentSets.__init__ (/home/michael/SageMath/src/build/cythonized/sage/graphs/independent_sets.c:7209)\u001b[0;34m()\u001b[0m\n\u001b[1;32m    182\u001b[0m         \u001b[0mself\u001b[0m\u001b[0;34m.\u001b[0m\u001b[0mn\u001b[0m \u001b[0;34m=\u001b[0m \u001b[0mG\u001b[0m\u001b[0;34m.\u001b[0m\u001b[0morder\u001b[0m\u001b[0;34m(\u001b[0m\u001b[0;34m)\u001b[0m\u001b[0;34m\u001b[0m\u001b[0m\n\u001b[1;32m    183\u001b[0m         \u001b[0mself\u001b[0m\u001b[0;34m.\u001b[0m\u001b[0mmaximal\u001b[0m \u001b[0;34m=\u001b[0m \u001b[0mmaximal\u001b[0m\u001b[0;34m\u001b[0m\u001b[0m\n\u001b[0;32m--> 184\u001b[0;31m         \u001b[0mself\u001b[0m\u001b[0;34m.\u001b[0m\u001b[0mvertex_to_int\u001b[0m \u001b[0;34m=\u001b[0m \u001b[0mdense_graph_init\u001b[0m\u001b[0;34m(\u001b[0m\u001b[0mself\u001b[0m\u001b[0;34m.\u001b[0m\u001b[0mg\u001b[0m\u001b[0;34m,\u001b[0m \u001b[0mG\u001b[0m\u001b[0;34m,\u001b[0m \u001b[0mtranslation\u001b[0m \u001b[0;34m=\u001b[0m \u001b[0mTrue\u001b[0m\u001b[0;34m)\u001b[0m\u001b[0;34m\u001b[0m\u001b[0m\n\u001b[0m\u001b[1;32m    185\u001b[0m \u001b[0;34m\u001b[0m\u001b[0m\n\u001b[1;32m    186\u001b[0m         \u001b[0;31m# If we must consider the graph's complement instead\u001b[0m\u001b[0;34m\u001b[0m\u001b[0;34m\u001b[0m\u001b[0m\n",
      "\u001b[0;32m/home/michael/SageMath/src/sage/graphs/base/static_dense_graph.pyx\u001b[0m in \u001b[0;36msage.graphs.base.static_dense_graph.dense_graph_init (/home/michael/SageMath/src/build/cythonized/sage/graphs/base/static_dense_graph.c:7173)\u001b[0;34m()\u001b[0m\n\u001b[1;32m     71\u001b[0m             \u001b[0md_translation\u001b[0m \u001b[0;34m=\u001b[0m \u001b[0;34m{\u001b[0m\u001b[0mi\u001b[0m\u001b[0;34m:\u001b[0m \u001b[0mi\u001b[0m \u001b[0;32mfor\u001b[0m \u001b[0mi\u001b[0m \u001b[0;32min\u001b[0m \u001b[0mrange\u001b[0m\u001b[0;34m(\u001b[0m\u001b[0mn\u001b[0m\u001b[0;34m)\u001b[0m\u001b[0;34m}\u001b[0m\u001b[0;34m\u001b[0m\u001b[0m\n\u001b[1;32m     72\u001b[0m \u001b[0;34m\u001b[0m\u001b[0m\n\u001b[0;32m---> 73\u001b[0;31m         \u001b[0;32mfor\u001b[0m \u001b[0mi\u001b[0m\u001b[0;34m,\u001b[0m\u001b[0mj\u001b[0m \u001b[0;32min\u001b[0m \u001b[0mg\u001b[0m\u001b[0;34m.\u001b[0m\u001b[0medge_iterator\u001b[0m\u001b[0;34m(\u001b[0m\u001b[0mlabels\u001b[0m \u001b[0;34m=\u001b[0m \u001b[0mFalse\u001b[0m\u001b[0;34m)\u001b[0m\u001b[0;34m:\u001b[0m\u001b[0;34m\u001b[0m\u001b[0m\n\u001b[0m\u001b[1;32m     74\u001b[0m             \u001b[0mbinary_matrix_set1\u001b[0m\u001b[0;34m(\u001b[0m\u001b[0mm\u001b[0m\u001b[0;34m,\u001b[0m \u001b[0mi\u001b[0m\u001b[0;34m,\u001b[0m \u001b[0mj\u001b[0m\u001b[0;34m)\u001b[0m\u001b[0;34m\u001b[0m\u001b[0m\n\u001b[1;32m     75\u001b[0m             \u001b[0;32mif\u001b[0m \u001b[0mis_undirected\u001b[0m\u001b[0;34m:\u001b[0m\u001b[0;34m\u001b[0m\u001b[0m\n",
      "\u001b[0;32m/home/michael/SageMath/local/lib/python2.7/site-packages/sage/graphs/generic_graph.pyc\u001b[0m in \u001b[0;36medge_iterator\u001b[0;34m(self, vertices, labels, ignore_direction)\u001b[0m\n\u001b[1;32m  10982\u001b[0m         \u001b[0;32mreturn\u001b[0m \u001b[0moutput\u001b[0m\u001b[0;34m\u001b[0m\u001b[0m\n\u001b[1;32m  10983\u001b[0m \u001b[0;34m\u001b[0m\u001b[0m\n\u001b[0;32m> 10984\u001b[0;31m     \u001b[0;32mdef\u001b[0m \u001b[0medge_iterator\u001b[0m\u001b[0;34m(\u001b[0m\u001b[0mself\u001b[0m\u001b[0;34m,\u001b[0m \u001b[0mvertices\u001b[0m\u001b[0;34m=\u001b[0m\u001b[0mNone\u001b[0m\u001b[0;34m,\u001b[0m \u001b[0mlabels\u001b[0m\u001b[0;34m=\u001b[0m\u001b[0mTrue\u001b[0m\u001b[0;34m,\u001b[0m \u001b[0mignore_direction\u001b[0m\u001b[0;34m=\u001b[0m\u001b[0mFalse\u001b[0m\u001b[0;34m)\u001b[0m\u001b[0;34m:\u001b[0m\u001b[0;34m\u001b[0m\u001b[0m\n\u001b[0m\u001b[1;32m  10985\u001b[0m         \"\"\"\n\u001b[1;32m  10986\u001b[0m         \u001b[0mReturns\u001b[0m \u001b[0man\u001b[0m \u001b[0miterator\u001b[0m \u001b[0mover\u001b[0m \u001b[0medges\u001b[0m\u001b[0;34m.\u001b[0m\u001b[0;34m\u001b[0m\u001b[0m\n",
      "\u001b[0;32msrc/cysignals/signals.pyx\u001b[0m in \u001b[0;36mcysignals.signals.python_check_interrupt (build/src/cysignals/signals.c:2721)\u001b[0;34m()\u001b[0m\n",
      "\u001b[0;32msrc/cysignals/signals.pyx\u001b[0m in \u001b[0;36mcysignals.signals.sig_raise_exception (build/src/cysignals/signals.c:1328)\u001b[0;34m()\u001b[0m\n",
      "\u001b[0;31mKeyboardInterrupt\u001b[0m: "
     ]
    }
   ],
   "source": [
    "# Array to hold results\n",
    "results = []\n",
    "indSets = []\n",
    "\n",
    "# How many vertices?\n",
    "n = 10\n",
    "\n",
    "# Iterate through graphs\n",
    "for g in graphs.nauty_geng(str(n) + \"-c\"):\n",
    "    \n",
    "    # Record the graph\n",
    "    results.append(g)\n",
    "    \n",
    "    # Record the maximal independent set\n",
    "    indSets.append(IndependentSets(g, maximal = True))"
   ]
  },
  {
   "cell_type": "code",
   "execution_count": 476,
   "metadata": {
    "collapsed": false,
    "deletable": true,
    "editable": true
   },
   "outputs": [
    {
     "data": {
      "text/plain": [
       "809647"
      ]
     },
     "execution_count": 476,
     "metadata": {},
     "output_type": "execute_result"
    }
   ],
   "source": [
    "len(results)"
   ]
  },
  {
   "cell_type": "markdown",
   "metadata": {
    "deletable": true,
    "editable": true
   },
   "source": [
    "### Manipulating objects within our generated data\n",
    "Here I'm going to haphazardly pick a graph to use as an example."
   ]
  },
  {
   "cell_type": "code",
   "execution_count": 477,
   "metadata": {
    "collapsed": false,
    "deletable": true,
    "editable": true
   },
   "outputs": [
    {
     "data": {
      "image/png": "[encoded data removed]",
      "text/plain": [
       "Graphics object consisting of 21 graphics primitives"
      ]
     },
     "metadata": {},
     "output_type": "display_data"
    },
    {
     "name": "stdout",
     "output_type": "stream",
     "text": [
      "10\n"
     ]
    },
    {
     "data": {
      "text/plain": [
       "[[0, 1, 2, 3, 4, 5, 6, 7], [2, 3, 7, 9], [4, 5, 6, 7, 8]]"
      ]
     },
     "execution_count": 477,
     "metadata": {},
     "output_type": "execute_result"
    }
   ],
   "source": [
    "# which index in our results to use?\n",
    "i = 122\n",
    "\n",
    "# Show graph\n",
    "results[i].show()\n",
    "\n",
    "# How many vertices does it have?\n",
    "n = len(results[i].vertices())\n",
    "print n\n",
    "\n",
    "# Print its independent set\n",
    "list(indSets[i])"
   ]
  },
  {
   "cell_type": "code",
   "execution_count": 468,
   "metadata": {
    "collapsed": false,
    "deletable": true,
    "editable": true
   },
   "outputs": [
    {
     "name": "stdout",
     "output_type": "stream",
     "text": [
      "5\n"
     ]
    },
    {
     "data": {
      "text/plain": [
       "[0, 4]"
      ]
     },
     "execution_count": 468,
     "metadata": {},
     "output_type": "execute_result"
    }
   ],
   "source": [
    "# How big is the independent set?\n",
    "l = len(list(indSets[i]))\n",
    "print l\n",
    "\n",
    "# Retrieve a particular facet\n",
    "list(indSets[i])[1]"
   ]
  },
  {
   "cell_type": "code",
   "execution_count": 469,
   "metadata": {
    "collapsed": false,
    "deletable": true,
    "editable": true
   },
   "outputs": [
    {
     "data": {
      "text/plain": [
       "array([[ 0.,  0.,  0.],\n",
       "       [ 0., -1.,  0.],\n",
       "       [ 0.,  0.,  0.]])"
      ]
     },
     "execution_count": 469,
     "metadata": {},
     "output_type": "execute_result"
    }
   ],
   "source": [
    "# Create zero matrix \n",
    "A = np.zeros((3,3))\n",
    "x = np.zeros((3,1))\n",
    "\n",
    "# If I wanted to assign a value to specific point in the matrix:\n",
    "A[1,1] = A[1,1] - 1\n",
    "\n",
    "A"
   ]
  },
  {
   "cell_type": "markdown",
   "metadata": {
    "collapsed": true,
    "deletable": true,
    "editable": true
   },
   "source": [
    "### Construct matrix to check for solutions"
   ]
  },
  {
   "cell_type": "code",
   "execution_count": 470,
   "metadata": {
    "collapsed": false,
    "deletable": true,
    "editable": true
   },
   "outputs": [
    {
     "name": "stdout",
     "output_type": "stream",
     "text": [
      "[[ 0.  0.  0.  1. -1.  0.]\n",
      " [ 1. -1. -1.  0.  1. -1.]\n",
      " [ 0.  0.  1. -1.  0.  0.]\n",
      " [ 0.  1. -1.  1. -1.  1.]]\n",
      "[[ 0.]\n",
      " [-1.]\n",
      " [ 0.]\n",
      " [ 1.]]\n"
     ]
    }
   ],
   "source": [
    "# Grab the number of facets for graph i\n",
    "t = len(list(indSets[i]))\n",
    "\n",
    "# Grab the number of vertices\n",
    "n = len(results[i].vertices())\n",
    "\n",
    "# Prepare matrices\n",
    "A = np.zeros((t-1, n))\n",
    "B = np.zeros((t-1, 1))\n",
    "\n",
    "# Iterate through all the facets of the independence complex\n",
    "for j in range(0,t-1):\n",
    "    \n",
    "    # Grab facet j\n",
    "    Fj = list(indSets[i])[j]\n",
    "    \n",
    "    # Grab facet j + 1\n",
    "    Fj1 = list(indSets[i])[j+1]\n",
    " \n",
    "\n",
    "    # Iterate through every vertex of the facet j\n",
    "    for k in range(0, len(Fj)):\n",
    "        \n",
    "        # Add 1 to these spots in the matrix\n",
    "        A[j, Fj[k]] = A[j, Fj[k]] + 1\n",
    "       \n",
    "    # Iterate through every vertex of the facet j + 1\n",
    "    for k in range(0, len(Fj1)):\n",
    "        \n",
    "        # Subtract 1 to these spots in the matrix\n",
    "        A[j, Fj1[k]] = A[j, Fj1[k]] - 1\n",
    "        \n",
    "    # Other side of the equation - set the j-th entry \n",
    "    B[j, 0] = len(Fj) - len(Fj1)\n",
    "\n",
    "print A\n",
    "print B"
   ]
  },
  {
   "cell_type": "markdown",
   "metadata": {
    "deletable": true,
    "editable": true
   },
   "source": [
    "## How do I check for  the existence of solutions?\n",
    "\n",
    "Currently I have A and B in Ax = B.\n",
    "\n",
    "Some things that might be helpful:"
   ]
  },
  {
   "cell_type": "code",
   "execution_count": 12,
   "metadata": {
    "collapsed": false,
    "deletable": true,
    "editable": true
   },
   "outputs": [
    {
     "data": {
      "text/plain": [
       "3"
      ]
     },
     "execution_count": 12,
     "metadata": {},
     "output_type": "execute_result"
    }
   ],
   "source": [
    "# The rank of A\n",
    "np.linalg.matrix_rank(A)"
   ]
  },
  {
   "cell_type": "code",
   "execution_count": 13,
   "metadata": {
    "collapsed": false,
    "deletable": true,
    "editable": true
   },
   "outputs": [],
   "source": [
    "# (Technical note: Change type of object to matrix over integers to use SAGE functions)\n",
    "A = matrix(ZZ, A)\n",
    "B = matrix(ZZ, B)\n"
   ]
  },
  {
   "cell_type": "code",
   "execution_count": 14,
   "metadata": {
    "collapsed": false,
    "deletable": true,
    "editable": true
   },
   "outputs": [
    {
     "data": {
      "text/plain": [
       "[2]\n",
       "[2]\n",
       "[0]\n",
       "[0]\n",
       "[0]\n",
       "[0]"
      ]
     },
     "execution_count": 14,
     "metadata": {},
     "output_type": "execute_result"
    }
   ],
   "source": [
    "# Solve the equation for x\n",
    "x = A.solve_right(B)\n",
    "x"
   ]
  },
  {
   "cell_type": "code",
   "execution_count": 15,
   "metadata": {
    "collapsed": false,
    "deletable": true,
    "editable": true
   },
   "outputs": [
    {
     "data": {
      "text/plain": [
       "array([[ True],\n",
       "       [ True],\n",
       "       [ True]], dtype=bool)"
      ]
     },
     "execution_count": 15,
     "metadata": {},
     "output_type": "execute_result"
    }
   ],
   "source": [
    "# Check that our solution works\n",
    "\n",
    "np.dot(A, x)== B"
   ]
  },
  {
   "cell_type": "code",
   "execution_count": 16,
   "metadata": {
    "collapsed": false,
    "deletable": true,
    "editable": true
   },
   "outputs": [
    {
     "data": {
      "text/plain": [
       "[2]\n",
       "[2]\n",
       "[0]\n",
       "[0]\n",
       "[0]\n",
       "[0]"
      ]
     },
     "execution_count": 16,
     "metadata": {},
     "output_type": "execute_result"
    }
   ],
   "source": [
    "# Alternative syntax for solving for x in Ax = B\n",
    "A\\B"
   ]
  },
  {
   "cell_type": "code",
   "execution_count": 17,
   "metadata": {
    "collapsed": false,
    "deletable": true,
    "editable": true
   },
   "outputs": [
    {
     "data": {
      "text/plain": [
       "[ 1  0  0  1 -1  1]\n",
       "[ 0  1  0  1 -1  1]\n",
       "[ 0  0  1 -1  0  0]"
      ]
     },
     "execution_count": 17,
     "metadata": {},
     "output_type": "execute_result"
    }
   ],
   "source": [
    "# Reduce to row echelon form\n",
    "A.echelon_form()"
   ]
  },
  {
   "cell_type": "code",
   "execution_count": 18,
   "metadata": {
    "collapsed": false,
    "deletable": true,
    "editable": true
   },
   "outputs": [
    {
     "data": {
      "text/plain": [
       "[ 1  0  0  1 -1  1]\n",
       "[ 0  1  0  1 -1  1]\n",
       "[ 0  0  1 -1  0  0]"
      ]
     },
     "execution_count": 18,
     "metadata": {},
     "output_type": "execute_result"
    }
   ],
   "source": [
    "# Alternate syntax for row echelon form\n",
    "A.rref()"
   ]
  },
  {
   "cell_type": "code",
   "execution_count": 19,
   "metadata": {
    "collapsed": false,
    "deletable": true,
    "editable": true
   },
   "outputs": [
    {
     "name": "stdout",
     "output_type": "stream",
     "text": [
      "[ 1  1  0  0  0 -1]\n",
      "[ 0  0  1  1  0 -1]\n",
      "[ 0  0  0  0  1  1]\n",
      "[   1    1    0    0    0   -1]\n",
      "[-1/3 -1/3    1    1    0 -2/3]\n",
      "[ 1/4  1/4  1/4  1/4    1  1/2]\n",
      "[   1    0    0]\n",
      "[ 1/3    1    0]\n",
      "[-1/3 -1/4    1]\n"
     ]
    }
   ],
   "source": [
    "# Construct augmented matrix\n",
    "C = np.concatenate((A,B), axis = 1)\n",
    "C = matrix(ZZ, C)\n",
    "\n",
    "A = matrix(ZZ,A)\n",
    "\n",
    "# This gives the solution space to the homogeneous system\n",
    "bas = transpose(A).kernel().basis()\n",
    "\n",
    "## Technical Note: we're taking the kernel of the transpose because Sage by default takes the \"left\" kernel,\n",
    "## and we want the right kernel (for the one-to-one correspondence between solutions to the specific system &\n",
    "## solutions to the homog. system)\n",
    "\n",
    "\n",
    "bas = matrix(bas)\n",
    "\n",
    "print bas\n",
    "\n",
    "print bas.gram_schmidt()[0]\n",
    "print bas.gram_schmidt()[1]"
   ]
  },
  {
   "cell_type": "markdown",
   "metadata": {
    "collapsed": true,
    "deletable": true,
    "editable": true
   },
   "source": [
    "## Applying Dines (1926)"
   ]
  },
  {
   "cell_type": "markdown",
   "metadata": {
    "deletable": true,
    "editable": true
   },
   "source": [
    "### Checking for mixed signs\n",
    "The first step is to check that all the rows have mixed coefficient signs (otherwise a positive solution is impossible)"
   ]
  },
  {
   "cell_type": "code",
   "execution_count": 53,
   "metadata": {
    "collapsed": false,
    "deletable": true,
    "editable": true
   },
   "outputs": [
    {
     "name": "stdout",
     "output_type": "stream",
     "text": [
      "(1, -1, -1, 1, 0, 0)\n",
      "0\n",
      "2\n",
      "(0, 0, 1, -1, 0, 0)\n",
      "0\n",
      "4\n",
      "(0, 1, 0, 1, -1, 1)\n",
      "2\n",
      "2\n"
     ]
    }
   ],
   "source": [
    "for r in A.rows():\n",
    "    print r\n",
    "    print sum(r)\n",
    "    print sum(x == 0 for x in r)"
   ]
  },
  {
   "cell_type": "code",
   "execution_count": 76,
   "metadata": {
    "collapsed": false,
    "deletable": true,
    "editable": true
   },
   "outputs": [],
   "source": [
    "def is_mixed(r):\n",
    "    return (sum(abs(x) for x in r) != abs(sum(r))) | (sum(abs(x) for x in r) == 0)"
   ]
  },
  {
   "cell_type": "markdown",
   "metadata": {
    "deletable": true,
    "editable": true
   },
   "source": [
    "The is_mixed(r) function returns True if the elements of r have mixed signs. It works by checking whether the sum of the absolute value of the elements of r equals the absolute value of the sum. It returns True if they are not equal (indicating that there are negative and positive elements in r). \n",
    "\n",
    "is_mixed(r) also returns True if all the elements in r are zero.\n",
    "\n",
    "Here we can test the function on some examples:"
   ]
  },
  {
   "cell_type": "code",
   "execution_count": 81,
   "metadata": {
    "collapsed": false,
    "deletable": true,
    "editable": true
   },
   "outputs": [
    {
     "name": "stdout",
     "output_type": "stream",
     "text": [
      "True\n",
      "False\n",
      "True\n"
     ]
    }
   ],
   "source": [
    "print is_mixed([0, 1, -1])\n",
    "\n",
    "print is_mixed([1, 1, 1])\n",
    "\n",
    "print is_mixed([0, 0, 0])"
   ]
  },
  {
   "cell_type": "markdown",
   "metadata": {
    "deletable": true,
    "editable": true
   },
   "source": [
    "Now we move on to actually checking matrices:"
   ]
  },
  {
   "cell_type": "code",
   "execution_count": 83,
   "metadata": {
    "collapsed": false,
    "deletable": true,
    "editable": true
   },
   "outputs": [
    {
     "name": "stdout",
     "output_type": "stream",
     "text": [
      "True\n",
      "True\n",
      "True\n"
     ]
    }
   ],
   "source": [
    "for row in A:\n",
    "    print is_mixed(row)\n"
   ]
  },
  {
   "cell_type": "markdown",
   "metadata": {
    "deletable": true,
    "editable": true
   },
   "source": [
    "If at any point, any of the rows do not read True, then a positive solution is impossible."
   ]
  },
  {
   "cell_type": "markdown",
   "metadata": {
    "deletable": true,
    "editable": true
   },
   "source": [
    "### Reduction from m equations to m-1 equations\n",
    "\n"
   ]
  },
  {
   "cell_type": "markdown",
   "metadata": {
    "deletable": true,
    "editable": true
   },
   "source": [
    "First, a function to figure out which terms are positive and which are negative in the first equation"
   ]
  },
  {
   "cell_type": "code",
   "execution_count": 101,
   "metadata": {
    "collapsed": false,
    "deletable": true,
    "editable": true
   },
   "outputs": [],
   "source": [
    "def separate_sign(r):\n",
    "    # pos to hold positive indices\n",
    "    pos = []\n",
    "    \n",
    "    # neg to hold negative indices\n",
    "    neg = []\n",
    "    \n",
    "    # Sequence along \n",
    "    for i in range(0, len(r)):\n",
    "        \n",
    "        # If positive, add the index \n",
    "        if r[i] >= 0:\n",
    "            pos.append(i)\n",
    "        elif r[i] < 0:\n",
    "            neg.append(i)\n",
    "            \n",
    "    return [pos, neg]"
   ]
  },
  {
   "cell_type": "code",
   "execution_count": 202,
   "metadata": {
    "collapsed": false,
    "deletable": true,
    "editable": true
   },
   "outputs": [
    {
     "name": "stdout",
     "output_type": "stream",
     "text": [
      "(1, -1, -1, 1, 0, 0)\n"
     ]
    },
    {
     "data": {
      "text/plain": [
       "[[0, 3, 4, 5], [1, 2]]"
      ]
     },
     "execution_count": 202,
     "metadata": {},
     "output_type": "execute_result"
    }
   ],
   "source": [
    "print A[0]\n",
    "\n",
    "separate_sign(A[0])"
   ]
  },
  {
   "cell_type": "markdown",
   "metadata": {
    "deletable": true,
    "editable": true
   },
   "source": [
    "Now, rewrite the equations:\n",
    "\n",
    "(this corresponds to the rewrite in equation (2) and (3) on page 387 of Dines)"
   ]
  },
  {
   "cell_type": "code",
   "execution_count": 221,
   "metadata": {
    "collapsed": false,
    "deletable": true,
    "editable": true
   },
   "outputs": [],
   "source": [
    "# r is the vector of coefficients\n",
    "# p is a list of positive indices from row 1\n",
    "# n is a list of negative indices from row 1\n",
    "\n",
    "# Function to rewrite the first line of the matrix (i.e. (2) in Dines)\n",
    "def rewrite_eq_1(r):\n",
    "    # Get indices for positive and negative coefficients\n",
    "    po = separate_sign(r)[0]\n",
    "    ne = separate_sign(r)[1]\n",
    "\n",
    "    # Prepare lists\n",
    "    lhs = list(np.zeros((1, len(r))))\n",
    "    rhs = list(np.zeros((1, len(r))))\n",
    "    \n",
    "    for i in po:\n",
    "        lhs[0][i] = r[i]\n",
    "        \n",
    "    for j in ne:\n",
    "        rhs[0][j] = -r[j]\n",
    "    \n",
    "    return [lhs, rhs]\n",
    "        \n",
    "# Function to rewrite all the other lines of the matrix\n",
    "def rewrite_eq_r(r, po, ne):\n",
    "    \n",
    "    # Generate a zero vector of the correct length to store coefficients\n",
    "    # Need to list these in order to index them properly later, not sure why\n",
    "    # So in fact, rhs and lhs are arrays inside of lists\n",
    "    # Therefore need to index them like rhs[0][i] to actually acesss the i^th element\n",
    "    \n",
    "    lhs = list(np.zeros((1, len(r))))\n",
    "    rhs = list(np.zeros((1, len(r))))\n",
    "    \n",
    "    for i in po:\n",
    "        rhs[0][i] = -r[i]\n",
    "        \n",
    "    for j in ne:\n",
    "        lhs[0][j] = r[j]\n",
    "\n",
    "    return [lhs, rhs]"
   ]
  },
  {
   "cell_type": "markdown",
   "metadata": {
    "deletable": true,
    "editable": true
   },
   "source": [
    "A quick test of our function:"
   ]
  },
  {
   "cell_type": "code",
   "execution_count": 232,
   "metadata": {
    "collapsed": false,
    "deletable": true,
    "editable": true
   },
   "outputs": [
    {
     "name": "stdout",
     "output_type": "stream",
     "text": [
      "[ 1 -1 -1  1  0  0]\n",
      "[ 0  0  1 -1  0  0]\n",
      "[ 0  1  0  1 -1  1]\n",
      "(1, -1, -1, 1, 0, 0)\n",
      "[[array([ 1.,  0.,  0.,  1.,  0.,  0.])], [array([ 0.,  1.,  1.,  0.,  0.,  0.])]]\n",
      "(0, 0, 1, -1, 0, 0)\n",
      "[[array([ 0.,  0.,  1.,  0.,  0.,  0.])], [array([ 0.,  0.,  0.,  1.,  0.,  0.])]]\n"
     ]
    }
   ],
   "source": [
    "# Positive indices\n",
    "p = separate_sign(A[0])[0]\n",
    "\n",
    "# Negative indices\n",
    "n = separate_sign(A[0])[1]\n",
    "\n",
    "# Print original matrix\n",
    "print A\n",
    "\n",
    "# Print original line 1\n",
    "print A[0]\n",
    "\n",
    "# Split line 1 according to eq (2)\n",
    "print rewrite_eq_1(A[0])\n",
    "\n",
    "# Print original line 2\n",
    "print A[1]\n",
    "\n",
    "# Split line 2 according to eq(3)\n",
    "print rewrite_eq_r(A[1],p, n)"
   ]
  },
  {
   "cell_type": "markdown",
   "metadata": {
    "deletable": true,
    "editable": true
   },
   "source": [
    "Now, use the functions to rewrite the equations:"
   ]
  },
  {
   "cell_type": "code",
   "execution_count": 245,
   "metadata": {
    "collapsed": false,
    "deletable": true,
    "editable": true
   },
   "outputs": [
    {
     "name": "stdout",
     "output_type": "stream",
     "text": [
      "[ 1.  0.  0.  1.  0.  0.]\n",
      "[ 0.  0.  1.  0.  0.  0.]\n",
      "[[ 0.  0.  0.  0.  0.  0.]\n",
      " [ 0.  0.  0.  0.  0.  0.]\n",
      " [ 0.  0.  0.  0.  0.  0.]\n",
      " [ 0.  0.  0.  0.  0.  0.]\n",
      " [ 0.  0.  0.  0.  0.  0.]\n",
      " [ 0.  0.  0.  0.  0.  0.]]\n"
     ]
    }
   ],
   "source": [
    "lhs1 = rewrite_eq_1(A[0])[0][0]\n",
    "lhs2 = rewrite_eq_r(A[1],p, n)[0][0]\n",
    "\n",
    "print lhs1\n",
    "print lhs2\n",
    "\n",
    "L = np.zeros((A.ncols(), A.ncols()))\n",
    "R = np.zeros((A.ncols(), A.ncols()))\n",
    "\n",
    "print L\n",
    "\n",
    "for i in range(len(lhs1)):\n",
    "    L[i] = lhs1[i]*lhs2"
   ]
  },
  {
   "cell_type": "code",
   "execution_count": 246,
   "metadata": {
    "collapsed": false,
    "deletable": true,
    "editable": true
   },
   "outputs": [
    {
     "data": {
      "text/plain": [
       "array([[ 0.,  0.,  1.,  0.,  0.,  0.],\n",
       "       [ 0.,  0.,  0.,  0.,  0.,  0.],\n",
       "       [ 0.,  0.,  0.,  0.,  0.,  0.],\n",
       "       [ 0.,  0.,  1.,  0.,  0.,  0.],\n",
       "       [ 0.,  0.,  0.,  0.,  0.,  0.],\n",
       "       [ 0.,  0.,  0.,  0.,  0.,  0.]])"
      ]
     },
     "execution_count": 246,
     "metadata": {},
     "output_type": "execute_result"
    }
   ],
   "source": [
    "L"
   ]
  },
  {
   "cell_type": "markdown",
   "metadata": {
    "deletable": true,
    "editable": true
   },
   "source": [
    "In this array, L[i,j] refers to the coefficient in front of $x_{ij}$"
   ]
  },
  {
   "cell_type": "markdown",
   "metadata": {
    "deletable": true,
    "editable": true
   },
   "source": [
    "I'm going to use this method for the matrix in Dines to make sure it works:"
   ]
  },
  {
   "cell_type": "code",
   "execution_count": 253,
   "metadata": {
    "collapsed": false,
    "deletable": true,
    "editable": true
   },
   "outputs": [
    {
     "data": {
      "text/plain": [
       "[ 1 -1  1  1  1 -1 -1 -1]\n",
       "[ 1  2 -1  2 -1  2 -1 -2]\n",
       "[ 1  2  3 -4 -5 -6  7 -8]"
      ]
     },
     "execution_count": 253,
     "metadata": {},
     "output_type": "execute_result"
    }
   ],
   "source": [
    "D = np.matrix([[1, -1, 1, 1, 1, -1, -1, -1], \n",
    "     [1, 2, -1, 2, -1, 2, -1, -2],\n",
    "     [1, 2, 3, -4, -5, -6, 7, -8]])\n",
    "\n",
    "D = matrix(ZZ, D)\n",
    "# Eventually I'll find a way to make this more efficient...\n",
    "\n",
    "D"
   ]
  },
  {
   "cell_type": "code",
   "execution_count": 273,
   "metadata": {
    "collapsed": false,
    "deletable": true,
    "editable": true
   },
   "outputs": [
    {
     "name": "stdout",
     "output_type": "stream",
     "text": [
      "The left-hand sides:\n",
      "[ 1.  0.  1.  1.  1.  0.  0.  0.]\n",
      "[ 0.  2.  0.  0.  0.  2. -1. -2.]\n",
      "[ 0.  2.  0.  0.  0. -6.  7. -8.]\n",
      "The right-hand sides:\n",
      "[ 0.  1.  0.  0.  0.  1.  1.  1.]\n",
      "[-1.  0.  1. -2.  1.  0.  0.  0.]\n",
      "[-1.  0. -3.  4.  5.  0.  0.  0.]\n"
     ]
    }
   ],
   "source": [
    "lhs = []\n",
    "rhs = []\n",
    "\n",
    "# Store the positive indices\n",
    "p = separate_sign(D[0])[0]\n",
    "\n",
    "# Store the negative indices\n",
    "n = separate_sign(D[0])[1]\n",
    "\n",
    "# Store each side of equation 1\n",
    "lhs.append(rewrite_eq_1(D[0])[0][0])\n",
    "rhs.append(rewrite_eq_1(D[0])[1][0])\n",
    "\n",
    "# Store each side of equation 2\n",
    "lhs.append(rewrite_eq_r(D[1], p, n)[0][0])\n",
    "rhs.append(rewrite_eq_r(D[1], p, n)[1][0])\n",
    "\n",
    "# Store each side of equation 3\n",
    "lhs.append(rewrite_eq_r(D[2], p, n)[0][0])\n",
    "rhs.append(rewrite_eq_r(D[2], p, n)[1][0])\n",
    "\n",
    "# Check that everything is consistent with the paper\n",
    "print \"The left-hand sides for eqs. 1 to 3:\"\n",
    "for i in lhs:\n",
    "    print i\n",
    "\n",
    "print \"The right-hand sides for eqs. 1 to 3:\"\n",
    "for i in rhs:\n",
    "    print i"
   ]
  },
  {
   "cell_type": "markdown",
   "metadata": {
    "deletable": true,
    "editable": true
   },
   "source": [
    "Now we form the new equations as per the end of page 389:"
   ]
  },
  {
   "cell_type": "code",
   "execution_count": 297,
   "metadata": {
    "collapsed": false,
    "deletable": true,
    "editable": true
   },
   "outputs": [],
   "source": [
    "L = []\n",
    "R = []\n",
    "\n",
    "# Multiply the left-hand sides\n",
    "for r in range(1,len(lhs)):\n",
    "    L.append(np.zeros((D.ncols(), D.ncols())))\n",
    "    \n",
    "    for i in range(len(lhs[0])):\n",
    "        L[r-1][i] = (lhs[0][i])*lhs[r]\n",
    "\n",
    "# Multiply the right-hand sides\n",
    "for r in range(1, len(rhs)):\n",
    "    R.append(np.zeros((D.ncols(), D.ncols())))\n",
    "    \n",
    "    for i in range(len(rhs[0])):\n",
    "        R[r-1][i] = (rhs[0][i]*rhs[r])"
   ]
  },
  {
   "cell_type": "code",
   "execution_count": 296,
   "metadata": {
    "collapsed": false,
    "deletable": true,
    "editable": true
   },
   "outputs": [
    {
     "data": {
      "text/plain": [
       "[array([[ 0.,  2.,  0.,  0.,  0.,  2., -1., -2.],\n",
       "        [ 0.,  0.,  0.,  0.,  0.,  0., -0., -0.],\n",
       "        [ 0.,  2.,  0.,  0.,  0.,  2., -1., -2.],\n",
       "        [ 0.,  2.,  0.,  0.,  0.,  2., -1., -2.],\n",
       "        [ 0.,  2.,  0.,  0.,  0.,  2., -1., -2.],\n",
       "        [ 0.,  0.,  0.,  0.,  0.,  0., -0., -0.],\n",
       "        [ 0.,  0.,  0.,  0.,  0.,  0., -0., -0.],\n",
       "        [ 0.,  0.,  0.,  0.,  0.,  0., -0., -0.]]),\n",
       " array([[ 0.,  2.,  0.,  0.,  0., -6.,  7., -8.],\n",
       "        [ 0.,  0.,  0.,  0.,  0., -0.,  0., -0.],\n",
       "        [ 0.,  2.,  0.,  0.,  0., -6.,  7., -8.],\n",
       "        [ 0.,  2.,  0.,  0.,  0., -6.,  7., -8.],\n",
       "        [ 0.,  2.,  0.,  0.,  0., -6.,  7., -8.],\n",
       "        [ 0.,  0.,  0.,  0.,  0., -0.,  0., -0.],\n",
       "        [ 0.,  0.,  0.,  0.,  0., -0.,  0., -0.],\n",
       "        [ 0.,  0.,  0.,  0.,  0., -0.,  0., -0.]])]"
      ]
     },
     "execution_count": 296,
     "metadata": {},
     "output_type": "execute_result"
    }
   ],
   "source": [
    "L"
   ]
  },
  {
   "cell_type": "code",
   "execution_count": 304,
   "metadata": {
    "collapsed": false,
    "deletable": true,
    "editable": true
   },
   "outputs": [
    {
     "name": "stdout",
     "output_type": "stream",
     "text": [
      "[[-0. -1. -0. -0. -0. -1. -1. -1.]\n",
      " [ 0.  0.  0.  0.  0.  0.  0.  0.]\n",
      " [ 0.  1.  0.  0.  0.  1.  1.  1.]\n",
      " [-0. -2. -0. -0. -0. -2. -2. -2.]\n",
      " [ 0.  1.  0.  0.  0.  1.  1.  1.]\n",
      " [ 0.  0.  0.  0.  0.  0.  0.  0.]\n",
      " [ 0.  0.  0.  0.  0.  0.  0.  0.]\n",
      " [ 0.  0.  0.  0.  0.  0.  0.  0.]]\n",
      "[[-0. -1. -0. -0. -0. -1. -1. -1.]\n",
      " [ 0.  0.  0.  0.  0.  0.  0.  0.]\n",
      " [-0. -3. -0. -0. -0. -3. -3. -3.]\n",
      " [ 0.  4.  0.  0.  0.  4.  4.  4.]\n",
      " [ 0.  5.  0.  0.  0.  5.  5.  5.]\n",
      " [ 0.  0.  0.  0.  0.  0.  0.  0.]\n",
      " [ 0.  0.  0.  0.  0.  0.  0.  0.]\n",
      " [ 0.  0.  0.  0.  0.  0.  0.  0.]]\n"
     ]
    }
   ],
   "source": [
    "print transpose(R[0])\n",
    "print transpose(R[1])"
   ]
  },
  {
   "cell_type": "code",
   "execution_count": 318,
   "metadata": {
    "collapsed": false,
    "deletable": true,
    "editable": true
   },
   "outputs": [],
   "source": [
    "# Now, construct a new system\n",
    "D_new = []\n",
    "\n",
    "for i in range(len(L)):\n",
    "    D_new.append(np.ravel(L[i] - transpose(R[i])))"
   ]
  },
  {
   "cell_type": "code",
   "execution_count": 319,
   "metadata": {
    "collapsed": false,
    "deletable": true,
    "editable": true,
    "scrolled": true
   },
   "outputs": [
    {
     "data": {
      "text/plain": [
       "[array([ 0.,  3.,  0.,  0.,  0.,  3.,  0., -1.,  0.,  0.,  0.,  0.,  0.,\n",
       "         0., -0., -0.,  0.,  1.,  0.,  0.,  0.,  1., -2., -3.,  0.,  4.,\n",
       "         0.,  0.,  0.,  4.,  1.,  0.,  0.,  1.,  0.,  0.,  0.,  1., -2.,\n",
       "        -3.,  0.,  0.,  0.,  0.,  0.,  0., -0., -0.,  0.,  0.,  0.,  0.,\n",
       "         0.,  0., -0., -0.,  0.,  0.,  0.,  0.,  0.,  0., -0., -0.]),\n",
       " array([  0.,   3.,   0.,   0.,   0.,  -5.,   8.,  -7.,   0.,   0.,   0.,\n",
       "          0.,   0.,  -0.,   0.,  -0.,   0.,   5.,   0.,   0.,   0.,  -3.,\n",
       "         10.,  -5.,   0.,  -2.,   0.,   0.,   0., -10.,   3., -12.,   0.,\n",
       "         -3.,   0.,   0.,   0., -11.,   2., -13.,   0.,   0.,   0.,   0.,\n",
       "          0.,  -0.,   0.,  -0.,   0.,   0.,   0.,   0.,   0.,  -0.,   0.,\n",
       "         -0.,   0.,   0.,   0.,   0.,   0.,  -0.,   0.,  -0.])]"
      ]
     },
     "execution_count": 319,
     "metadata": {},
     "output_type": "execute_result"
    }
   ],
   "source": [
    "D_new"
   ]
  },
  {
   "cell_type": "code",
   "execution_count": 322,
   "metadata": {
    "collapsed": false,
    "deletable": true,
    "editable": true
   },
   "outputs": [
    {
     "name": "stdout",
     "output_type": "stream",
     "text": [
      "True\n",
      "True\n"
     ]
    }
   ],
   "source": [
    "print is_mixed(D_new[0])\n",
    "print is_mixed(D_new[1])"
   ]
  },
  {
   "cell_type": "markdown",
   "metadata": {
    "deletable": true,
    "editable": true
   },
   "source": [
    "## Putting the positive solution algorithm together\n",
    "\n",
    "Here, I want to be able make a function that takes an initial matrix of coefficients (for a homoegenous system) and applies the algorithm to return True if positive solutions exist, or False if no positive solutions exist."
   ]
  },
  {
   "cell_type": "code",
   "execution_count": 447,
   "metadata": {
    "collapsed": false,
    "deletable": true,
    "editable": true
   },
   "outputs": [],
   "source": [
    "def Dines_check(M):\n",
    "    \n",
    "    for N in range(0, M.nrows()):\n",
    "        \n",
    "        # If there are rows of the matrix that are not mixed, then no positive solutions exist -----------------\n",
    "        if (sum(is_mixed(r) for r in M)) < M.nrows():\n",
    "            return False\n",
    "            done = True\n",
    "            \n",
    "        # Otherwise, need to reduce the matrix: -------------------------------------------------------\n",
    "        elif (sum(is_mixed(r) for r in M)) == M.nrows():\n",
    "\n",
    "            # First, some setup ----------------------\n",
    "            # Empty lists to store the re-written equations\n",
    "            lhs = []\n",
    "            rhs = []\n",
    "\n",
    "            # Empty lists to store the multiplied system\n",
    "            L = []\n",
    "            R = []\n",
    "\n",
    "            # Empty list to store the completely new system\n",
    "            M_new = []\n",
    "\n",
    "            # Store the positive indices of the first equation\n",
    "            p = separate_sign(M[0])[0]\n",
    "\n",
    "            # Store the negative indices first equation\n",
    "            n = separate_sign(M[0])[1]\n",
    "\n",
    "            # Store each side of equation 1 -----------------\n",
    "            lhs.append(rewrite_eq_1(M[0])[0][0])\n",
    "            rhs.append(rewrite_eq_1(M[0])[1][0])\n",
    "\n",
    "            # Store each side of equation 2 to m -------------------\n",
    "            for q in range(1,(M.nrows())):\n",
    "\n",
    "                lhs.append(rewrite_eq_r(M[q], p, n)[0][0])\n",
    "                rhs.append(rewrite_eq_r(M[q], p, n)[1][0])\n",
    "\n",
    "            # Form the new equations -------------------\n",
    "            # Multiply the left hand side\n",
    "            for s in range(1,len(lhs)):\n",
    "                L.append(np.zeros((M.ncols(), M.ncols())))\n",
    "\n",
    "                for t in range(len(lhs[0])):\n",
    "                    L[s-1][t] = (lhs[0][t])*lhs[s]\n",
    "\n",
    "            # Multiply the right hand side\n",
    "            for s in range(1, len(rhs)):\n",
    "                R.append(np.zeros((M.ncols(), M.ncols())))\n",
    "\n",
    "                for t in range(len(rhs[0])):\n",
    "                    R[s-1][t] = (rhs[0][t]*rhs[s])\n",
    "\n",
    "            # Bring everything back to the left hand side ----------------\n",
    "            for s in range(len(L)):\n",
    "                M_new.append(np.ravel(L[s] - transpose(R[s])))\n",
    "\n",
    "            # return M_new ## For troubleshooting\n",
    "            # Check whether we pass ----------------------------------\n",
    "            if (len(M_new) == 1):                \n",
    "                if is_mixed(M_new[0]):\n",
    "                    return True\n",
    "                else: \n",
    "                    return False\n",
    "            else:\n",
    "                M = matrix(np.matrix(M_new))\n",
    "                \n",
    "\n",
    "\n"
   ]
  },
  {
   "cell_type": "code",
   "execution_count": 448,
   "metadata": {
    "collapsed": false,
    "deletable": true,
    "editable": true
   },
   "outputs": [
    {
     "data": {
      "text/plain": [
       "True"
      ]
     },
     "execution_count": 448,
     "metadata": {},
     "output_type": "execute_result"
    }
   ],
   "source": [
    "sum(is_mixed(r) for r in A) == A.nrows()"
   ]
  },
  {
   "cell_type": "code",
   "execution_count": 450,
   "metadata": {
    "collapsed": false,
    "deletable": true,
    "editable": true
   },
   "outputs": [
    {
     "name": "stdout",
     "output_type": "stream",
     "text": [
      "3\n"
     ]
    },
    {
     "data": {
      "text/plain": [
       "True"
      ]
     },
     "execution_count": 450,
     "metadata": {},
     "output_type": "execute_result"
    }
   ],
   "source": [
    "T = matrix([[1, -2, 3], \n",
    "     [4, 5, -6],\n",
    "     [7, 8, -9]])\n",
    "\n",
    "print T.nrows()\n",
    "Dines_check(D)\n",
    "\n",
    "\n",
    "\n"
   ]
  },
  {
   "cell_type": "code",
   "execution_count": 367,
   "metadata": {
    "collapsed": false,
    "deletable": true,
    "editable": true
   },
   "outputs": [
    {
     "data": {
      "text/plain": [
       "[array([[ 0.,  2.,  0.,  0.,  0.,  2., -1., -2.],\n",
       "        [ 0.,  0.,  0.,  0.,  0.,  0., -0., -0.],\n",
       "        [ 0.,  2.,  0.,  0.,  0.,  2., -1., -2.],\n",
       "        [ 0.,  2.,  0.,  0.,  0.,  2., -1., -2.],\n",
       "        [ 0.,  2.,  0.,  0.,  0.,  2., -1., -2.],\n",
       "        [ 0.,  0.,  0.,  0.,  0.,  0., -0., -0.],\n",
       "        [ 0.,  0.,  0.,  0.,  0.,  0., -0., -0.],\n",
       "        [ 0.,  0.,  0.,  0.,  0.,  0., -0., -0.]]),\n",
       " array([[ 0.,  2.,  0.,  0.,  0., -6.,  7., -8.],\n",
       "        [ 0.,  0.,  0.,  0.,  0., -0.,  0., -0.],\n",
       "        [ 0.,  2.,  0.,  0.,  0., -6.,  7., -8.],\n",
       "        [ 0.,  2.,  0.,  0.,  0., -6.,  7., -8.],\n",
       "        [ 0.,  2.,  0.,  0.,  0., -6.,  7., -8.],\n",
       "        [ 0.,  0.,  0.,  0.,  0., -0.,  0., -0.],\n",
       "        [ 0.,  0.,  0.,  0.,  0., -0.,  0., -0.],\n",
       "        [ 0.,  0.,  0.,  0.,  0., -0.,  0., -0.]])]"
      ]
     },
     "execution_count": 367,
     "metadata": {},
     "output_type": "execute_result"
    }
   ],
   "source": [
    "L"
   ]
  },
  {
   "cell_type": "code",
   "execution_count": 431,
   "metadata": {
    "collapsed": false,
    "deletable": true,
    "editable": true
   },
   "outputs": [
    {
     "ename": "IndexError",
     "evalue": "tuple index out of range",
     "output_type": "error",
     "traceback": [
      "\u001b[0;31m---------------------------------------------------------------------------\u001b[0m",
      "\u001b[0;31mIndexError\u001b[0m                                Traceback (most recent call last)",
      "\u001b[0;32m<ipython-input-431-d917cb4e9628>\u001b[0m in \u001b[0;36m<module>\u001b[0;34m()\u001b[0m\n\u001b[0;32m----> 1\u001b[0;31m \u001b[0mmatrix\u001b[0m\u001b[0;34m(\u001b[0m\u001b[0mZZ\u001b[0m\u001b[0;34m,\u001b[0m \u001b[0mM_new\u001b[0m\u001b[0;34m[\u001b[0m\u001b[0mInteger\u001b[0m\u001b[0;34m(\u001b[0m\u001b[0;36m0\u001b[0m\u001b[0;34m)\u001b[0m\u001b[0;34m]\u001b[0m\u001b[0;34m)\u001b[0m\u001b[0;34m\u001b[0m\u001b[0m\n\u001b[0m",
      "\u001b[0;32m/home/michael/SageMath/src/sage/matrix/constructor.pyx\u001b[0m in \u001b[0;36msage.matrix.constructor.MatrixFactory.__call__ (/home/michael/SageMath/src/build/cythonized/sage/matrix/constructor.c:6040)\u001b[0;34m()\u001b[0m\n\u001b[1;32m    753\u001b[0m                             \u001b[0mm\u001b[0m\u001b[0;34m.\u001b[0m\u001b[0m_replace_self_with_numpy32\u001b[0m\u001b[0;34m(\u001b[0m\u001b[0marg\u001b[0m\u001b[0;34m)\u001b[0m\u001b[0;34m\u001b[0m\u001b[0m\n\u001b[1;32m    754\u001b[0m                         \u001b[0;32melif\u001b[0m \u001b[0mstr_dtype\u001b[0m\u001b[0;34m.\u001b[0m\u001b[0mcount\u001b[0m\u001b[0;34m(\u001b[0m\u001b[0;34m'float64'\u001b[0m\u001b[0;34m)\u001b[0m \u001b[0;34m==\u001b[0m \u001b[0;36m1\u001b[0m\u001b[0;34m:\u001b[0m\u001b[0;34m\u001b[0m\u001b[0m\n\u001b[0;32m--> 755\u001b[0;31m                             \u001b[0mm\u001b[0m \u001b[0;34m=\u001b[0m \u001b[0mmatrix\u001b[0m\u001b[0;34m(\u001b[0m\u001b[0mRDF\u001b[0m\u001b[0;34m,\u001b[0m \u001b[0marg\u001b[0m\u001b[0;34m.\u001b[0m\u001b[0mshape\u001b[0m\u001b[0;34m[\u001b[0m\u001b[0;36m0\u001b[0m\u001b[0;34m]\u001b[0m\u001b[0;34m,\u001b[0m \u001b[0marg\u001b[0m\u001b[0;34m.\u001b[0m\u001b[0mshape\u001b[0m\u001b[0;34m[\u001b[0m\u001b[0;36m1\u001b[0m\u001b[0;34m]\u001b[0m\u001b[0;34m,\u001b[0m \u001b[0;36m0\u001b[0m\u001b[0;34m)\u001b[0m\u001b[0;34m\u001b[0m\u001b[0m\n\u001b[0m\u001b[1;32m    756\u001b[0m                             \u001b[0mm\u001b[0m\u001b[0;34m.\u001b[0m\u001b[0m_replace_self_with_numpy\u001b[0m\u001b[0;34m(\u001b[0m\u001b[0marg\u001b[0m\u001b[0;34m)\u001b[0m\u001b[0;34m\u001b[0m\u001b[0m\n\u001b[1;32m    757\u001b[0m                         \u001b[0;32melif\u001b[0m \u001b[0mstr_dtype\u001b[0m\u001b[0;34m.\u001b[0m\u001b[0mcount\u001b[0m\u001b[0;34m(\u001b[0m\u001b[0;34m'complex64'\u001b[0m\u001b[0;34m)\u001b[0m \u001b[0;34m==\u001b[0m \u001b[0;36m1\u001b[0m\u001b[0;34m:\u001b[0m\u001b[0;34m\u001b[0m\u001b[0m\n",
      "\u001b[0;31mIndexError\u001b[0m: tuple index out of range"
     ]
    }
   ],
   "source": [
    "matrix(ZZ, M_new[0])"
   ]
  },
  {
   "cell_type": "code",
   "execution_count": 432,
   "metadata": {
    "collapsed": false,
    "deletable": true,
    "editable": true
   },
   "outputs": [],
   "source": [
    "M = D\n",
    "\n",
    "lhs = []\n",
    "rhs = []\n",
    "\n",
    "# Empty lists to store the multiplied system\n",
    "L = []\n",
    "R = []\n",
    "\n",
    "# Empty list to store the completely new system\n",
    "M_new = []\n",
    "\n",
    "# Store the positive indices of the first equation\n",
    "p = separate_sign(M[0])[0]\n",
    "\n",
    "# Store the negative indices first equation\n",
    "n = separate_sign(M[0])[1]\n",
    "\n",
    "# Store each side of equation 1 -----------------\n",
    "lhs.append(rewrite_eq_1(M[0])[0][0])\n",
    "rhs.append(rewrite_eq_1(M[0])[1][0])\n",
    "\n",
    "# Store each side of equation 2 to m -------------------\n",
    "for q in range(1,M.nrows()):\n",
    "\n",
    "    lhs.append(rewrite_eq_r(M[q], p, n)[0][0])\n",
    "    rhs.append(rewrite_eq_r(M[q], p, n)[1][0])\n",
    "\n",
    "# Form the new equations -------------------\n",
    "# Multiply the left hand side\n",
    "for s in range(1,len(lhs)):\n",
    "    L.append(np.zeros((M.ncols(), M.ncols())))\n",
    "\n",
    "    for t in range(len(lhs[0])):\n",
    "        L[s-1][t] = (lhs[0][t])*lhs[s]\n",
    "\n",
    "# Multiply the right hand side\n",
    "for s in range(1, len(rhs)):\n",
    "    R.append(np.zeros((M.ncols(), M.ncols())))\n",
    "\n",
    "    for t in range(len(rhs[0])):\n",
    "        R[s-1][t] = (rhs[0][t]*rhs[s])\n",
    "\n",
    "# Bring everything back to the left hand side ----------------\n",
    "for s in range(len(L)):\n",
    "    M_new.append(np.ravel(L[s] - transpose(R[s])))"
   ]
  },
  {
   "cell_type": "code",
   "execution_count": 452,
   "metadata": {
    "collapsed": false,
    "deletable": true,
    "editable": true
   },
   "outputs": [
    {
     "name": "stdout",
     "output_type": "stream",
     "text": [
      "[ 1 -2  3]\n",
      "[ 4  5 -6]\n",
      "[ 7  8 -9]\n"
     ]
    },
    {
     "data": {
      "text/plain": [
       "False"
      ]
     },
     "execution_count": 452,
     "metadata": {},
     "output_type": "execute_result"
    }
   ],
   "source": [
    "print T\n",
    "Dines_check(T)"
   ]
  },
  {
   "cell_type": "code",
   "execution_count": 453,
   "metadata": {
    "collapsed": false,
    "deletable": true,
    "editable": true
   },
   "outputs": [
    {
     "name": "stdout",
     "output_type": "stream",
     "text": [
      "[ 1 -1  1  1  1 -1 -1 -1]\n",
      "[ 1  2 -1  2 -1  2 -1 -2]\n",
      "[ 1  2  3 -4 -5 -6  7 -8]\n"
     ]
    },
    {
     "data": {
      "text/plain": [
       "True"
      ]
     },
     "execution_count": 453,
     "metadata": {},
     "output_type": "execute_result"
    }
   ],
   "source": [
    "print D\n",
    "Dines_check(D)"
   ]
  },
  {
   "cell_type": "code",
   "execution_count": 455,
   "metadata": {
    "collapsed": false,
    "deletable": true,
    "editable": true
   },
   "outputs": [
    {
     "name": "stdout",
     "output_type": "stream",
     "text": [
      "[ 1 -1 -1  1  0  0]\n",
      "[ 0  0  1 -1  0  0]\n",
      "[ 0  1  0  1 -1  1]\n"
     ]
    },
    {
     "data": {
      "text/plain": [
       "True"
      ]
     },
     "execution_count": 455,
     "metadata": {},
     "output_type": "execute_result"
    }
   ],
   "source": [
    "print A\n",
    "Dines_check(A)"
   ]
  },
  {
   "cell_type": "markdown",
   "metadata": {
    "deletable": true,
    "editable": true
   },
   "source": [
    "## Derrick Stole Math 482 Linear programming\n",
    "https://faculty.math.illinois.edu/~stolee/482/examples/sageexample.pdf\n"
   ]
  },
  {
   "cell_type": "code",
   "execution_count": 461,
   "metadata": {
    "collapsed": false,
    "deletable": true,
    "editable": true
   },
   "outputs": [
    {
     "name": "stdout",
     "output_type": "stream",
     "text": [
      "Minimization:\n",
      "  x_0 + x_1 + x_2 + x_3 + x_4 + x_5 \n",
      "\n",
      "Constraints:\n",
      "  0.0 <= x_0 - x_1 - x_2 + x_5 <= 0.0\n",
      "  0.0 <= x_2 - x_5 <= 0.0\n",
      "  2.0 <= x_1 + x_3 - x_4 + x_5 <= 2.0\n",
      "  - x_0 <= -2.0\n",
      "  - x_1 <= -2.0\n",
      "  - x_2 <= -2.0\n",
      "  - x_3 <= -2.0\n",
      "  - x_4 <= -2.0\n",
      "  - x_5 <= -2.0\n",
      "Variables:\n",
      "  x_0 is an integer variable (min=0.0, max=+oo)\n",
      "  x_1 is an integer variable (min=0.0, max=+oo)\n",
      "  x_2 is an integer variable (min=0.0, max=+oo)\n",
      "  x_3 is an integer variable (min=0.0, max=+oo)\n",
      "  x_4 is an integer variable (min=0.0, max=+oo)\n",
      "  x_5 is an integer variable (min=0.0, max=+oo)\n"
     ]
    }
   ],
   "source": [
    "p = MixedIntegerLinearProgram(maximization=False, solver=\"GLPK\");\n",
    "w = p.new_variable();\n",
    "\n",
    "for i in range(6):\n",
    "    p.set_min(w[i], 0);\n",
    "    p.set_integer(w[i]);\n",
    "w\n",
    "\n",
    "p.add_constraint(w[0] + w[3] + w[5] - w[1] -w[2] -w[3] == 0 );\n",
    "\n",
    "p.add_constraint(w[1] + w[2] + w[3] - w[1] -w[3] -w[5] == 0 );\n",
    "\n",
    "p.add_constraint(w[1] + w[3] + w[5] - w[4] == 2 );\n",
    "\n",
    "p.add_constraint(w[0] >=2) ;\n",
    "p.add_constraint(w[1] >=2) ;\n",
    "p.add_constraint(w[2] >=2) ;\n",
    "p.add_constraint(w[3] >=2) ;\n",
    "p.add_constraint(w[4] >=2) ;\n",
    "p.add_constraint(w[5] >=2) ;\n",
    "\n",
    "p.set_objective(w[0] + w[1]+ w[2] + w[3] + w[4] + w[5]);\n",
    "\n",
    "p.show();"
   ]
  },
  {
   "cell_type": "code",
   "execution_count": 463,
   "metadata": {
    "collapsed": false,
    "deletable": true,
    "editable": true
   },
   "outputs": [
    {
     "data": {
      "text/plain": [
       "14.0"
      ]
     },
     "execution_count": 463,
     "metadata": {},
     "output_type": "execute_result"
    }
   ],
   "source": [
    "p.solve()"
   ]
  },
  {
   "cell_type": "code",
   "execution_count": 466,
   "metadata": {
    "collapsed": false,
    "deletable": true,
    "editable": true
   },
   "outputs": [
    {
     "data": {
      "text/plain": [
       "[2.0, 2.0, 2.0, 2.0, 4.0, 2.0]"
      ]
     },
     "execution_count": 466,
     "metadata": {},
     "output_type": "execute_result"
    }
   ],
   "source": [
    "p.get_values([w[i] for i in range(6)])"
   ]
  },
  {
   "cell_type": "code",
   "execution_count": 3,
   "metadata": {
    "collapsed": false,
    "deletable": true,
    "editable": true
   },
   "outputs": [
    {
     "name": "stdout",
     "output_type": "stream",
     "text": [
      "75 29 7 1 0 0\n"
     ]
    },
    {
     "data": {
      "text/plain": [
       "112"
      ]
     },
     "execution_count": 3,
     "metadata": {},
     "output_type": "execute_result"
    }
   ],
   "source": [
    "i = 0\n",
    "j = 0\n",
    "k = 0\n",
    "l = 0\n",
    "m = 0\n",
    "n = 0\n",
    "\n",
    "for g in graphs.nauty_geng(\"6 -c 0/6\"):\n",
    "    i = i+1\n",
    "\n",
    "for g in graphs.nauty_geng(\"6 -c 1/6\"):\n",
    "    j = j + 1\n",
    "    \n",
    "for g in graphs.nauty_geng(\"6 -c 2/6\"):\n",
    "    k = k + 1\n",
    "    \n",
    "for g in graphs.nauty_geng(\"6 -c 3/6\"):\n",
    "    l = l + 1\n",
    "\n",
    "for g in graphs.nauty_geng(\"6 -c 4/6\"):\n",
    "    m = m + 1  \n",
    "    \n",
    "for g in graphs.nauty_geng(\"6 -c 5/6\"):\n",
    "    n = n + 1\n",
    "\n",
    "\n",
    "print i, j, k, l, m, n\n",
    "\n",
    "sum((i, j, k, l, m, n))"
   ]
  },
  {
   "cell_type": "code",
   "execution_count": null,
   "metadata": {
    "collapsed": true,
    "deletable": true,
    "editable": true
   },
   "outputs": [],
   "source": [
    "\n"
   ]
  }
 ],
 "metadata": {
  "kernelspec": {
   "display_name": "SageMath 8.0",
   "language": "",
   "name": "sagemath"
  },
  "language_info": {
   "codemirror_mode": {
    "name": "ipython",
    "version": 2
   },
   "file_extension": ".py",
   "mimetype": "text/x-python",
   "name": "python",
   "nbconvert_exporter": "python",
   "pygments_lexer": "ipython2",
   "version": "2.7.13"
  }
 },
 "nbformat": 4,
 "nbformat_minor": 2
}
