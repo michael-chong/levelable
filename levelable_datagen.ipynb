{
 "cells": [
  {
   "cell_type": "markdown",
   "metadata": {
    "collapsed": false,
    "deletable": true,
    "editable": true
   },
   "source": [
    "# Levelable Simplicial Complexes on Finite Simple Graphs\n",
    "\n",
    "This is the main file for generating graphs and checking the levelable condition for my ISCI 4A12 honours thesis project.\n",
    "\n",
    "### Notes\n",
    "\n",
    "* This file supersedes `Experimenting with Jupyter and Sage.ipynb`. That file contains some initial stage experimentation with functions and methods that are implemented here. In particular, a large chunk of that file is concerned with looking for positive solutions to linear systems, adopting an algorithm from Dines (1926). \n",
    "\n",
    "* In order to check the levelable condition, we take advantage of the built-in linear programming capabilities in SageMath.\n",
    "\n",
    "* Outstanding question: should we generate graphs using `graphs()` or `nauty_geng()`? "
   ]
  },
  {
   "cell_type": "code",
   "execution_count": 2,
   "metadata": {
    "collapsed": true,
    "deletable": true,
    "editable": true
   },
   "outputs": [],
   "source": [
    "# Import relevant things\n",
    "from sage.graphs.independent_sets import IndependentSets\n",
    "from sage.graphs.graph_input import from_graph6\n",
    "import numpy as np\n",
    "import csv"
   ]
  },
  {
   "cell_type": "code",
   "execution_count": 32,
   "metadata": {
    "collapsed": false,
    "deletable": true,
    "editable": true
   },
   "outputs": [],
   "source": [
    "# Some empty arrays to hold results\n",
    "g6String = []\n",
    "solutionExists = []\n",
    "minSol = []\n",
    "\n",
    "# The number of vertices\n",
    "n = 9\n",
    "\n",
    "# A number less than n\n",
    "# This is used to split up the search\n",
    "chunk = 8\n",
    "\n",
    "connected = True\n",
    "\n",
    "if connected:\n",
    "    nautArg = str(n) + \" -c \"\n",
    "else:\n",
    "    nautArg = str(n) + \" \"\n",
    "\n",
    "if n >= 9:\n",
    "    # If we're testing 9 or more vertices, split up the search\n",
    "    # Refer to the documentation to see how this argument works\n",
    "    ## It's not explained very clearly...\n",
    "    nautArg = nautArg + str(chunk) + \"/\" + str(n)\n",
    "\n",
    "for g in graphs.nauty_geng(nautArg):\n",
    "    \n",
    "    # Record the graph\n",
    "    g6String.append(g.graph6_string())\n",
    "    \n",
    "    # Record the maximal independent set\n",
    "    indSets = IndependentSets(g, maximal = True)\n",
    "    \n",
    "    # Grab the number of facets for graph\n",
    "    t = len(list(indSets))\n",
    "    \n",
    "    # Prepare matrices\n",
    "    A = np.zeros((t-1, n))\n",
    "    B = np.zeros((t-1, 1))\n",
    "    \n",
    "    for j in range(0,t-1):\n",
    "    \n",
    "        # Grab facet j\n",
    "        Fj = list(indSets)[j]\n",
    "\n",
    "        # Grab facet j + 1\n",
    "        Fj1 = list(indSets)[j+1]\n",
    " \n",
    "\n",
    "        # Iterate through every vertex of the facet j\n",
    "        for k in range(0, len(Fj)):\n",
    "        \n",
    "            # Add 1 to these spots in the matrix\n",
    "            A[j, Fj[k]] = A[j, Fj[k]] + 1\n",
    "       \n",
    "        # Iterate through every vertex of the facet j + 1\n",
    "        for k in range(0, len(Fj1)):\n",
    "        \n",
    "            # Subtract 1 to these spots in the matrix\n",
    "            A[j, Fj1[k]] = A[j, Fj1[k]] - 1\n",
    "        \n",
    "        # Other side of the equation - set the j-th entry \n",
    "        B[j, 0] = len(Fj) - len(Fj1)\n",
    "    \n",
    "    # \n",
    "    p = MixedIntegerLinearProgram(maximization = False, solver = \"GLPK\")\n",
    "    x = p.new_variable()\n",
    "    \n",
    "    for l in range(n):\n",
    "        p.set_min(x[l], 2)\n",
    "    \n",
    "    for l in range(t-1):\n",
    "        # Add a constraint according to the i^th equation\n",
    "        p.add_constraint(sum(A[l,j]*x[j] for j in range(n)) == B[l])\n",
    "    \n",
    "    try:\n",
    "        # Solve the system\n",
    "        p.solve()       \n",
    "    except:\n",
    "        # If there is no solution, the program throws an error. Record False in solutionExists if this is the case\n",
    "        solutionExists.append(\"F\")\n",
    "        minSol.append(\"NA\")\n",
    "    else:\n",
    "        # Get the minimum solution\n",
    "        s = p.get_values([x[r] for r in range(n)])\n",
    "\n",
    "        # Double check that the solution works \n",
    "        if np.array_equal(np.matrix(np.dot(A,s)), transpose(B)):\n",
    "            # If we do indeed have a solution, then record True in solutionExists\n",
    "            solutionExists.append(\"T\")\n",
    "\n",
    "            # Record the minimum solution\n",
    "            minSol.append(s)\n",
    "        else:\n",
    "            solutionExists.append(\"Error\")\n",
    "            minSol.append(\"NA\")"
   ]
  },
  {
   "cell_type": "code",
   "execution_count": 33,
   "metadata": {
    "collapsed": false,
    "deletable": true,
    "editable": true
   },
   "outputs": [],
   "source": [
    "if connected:\n",
    "    filename = \"results/resultsconnected\" + str(n)\n",
    "else:\n",
    "    filename = \"results/results\" + str(n)\n",
    "    \n",
    "if n < 9:\n",
    "    filename = filename + \".csv\"\n",
    "else:\n",
    "    filename = filename + \"_\" + str(chunk + 1) + \"of\" + str(n) + \".csv\"\n",
    "\n",
    "\n",
    "with open(filename, 'wb') as csvfile:\n",
    "    writer = csv.writer(csvfile, delimiter=',')\n",
    "    \n",
    "    writer.writerow(['graph6 string'] + ['levelable'] + ['minimized solution'])\n",
    "    \n",
    "    for row in range(len(g6String)):\n",
    "        writer.writerow([g6String[row]] + [solutionExists[row]] + [minSol[row]])\n"
   ]
  },
  {
   "cell_type": "markdown",
   "metadata": {
    "deletable": true,
    "editable": true
   },
   "source": [
    "The resulting `.csv` file has 3 columns.\n",
    "\n",
    "* The first column, `graph6 string`, contains the graph6 string of that graph. In order to read this, you can either use [from_graph6()](http://doc.sagemath.org/html/en/reference/graphs/sage/graphs/graph_input.html) or the [rgraph6 package](https://rdrr.io/rforge/rgraph6/man/asAMatrix.html) in R.\n",
    "* The second column `levelable` reads `T` if the linear program was able to find a solution that passes the levelable condition for the independence complex for that graph (Thm. 6), and `F` if it can't. This column reads `Error` if the linear program found a solution but it doesn't actually solve the system (this is just for peace of mind).\n",
    "* The third column `minimized solution` contains the solution given by the linear program (if it exists)."
   ]
  }
 ],
 "metadata": {
  "kernelspec": {
   "display_name": "SageMath 8.0",
   "language": "",
   "name": "sagemath"
  },
  "language_info": {
   "codemirror_mode": {
    "name": "ipython",
    "version": 2
   },
   "file_extension": ".py",
   "mimetype": "text/x-python",
   "name": "python",
   "nbconvert_exporter": "python",
   "pygments_lexer": "ipython2",
   "version": "2.7.13"
  }
 },
 "nbformat": 4,
 "nbformat_minor": 2
}
